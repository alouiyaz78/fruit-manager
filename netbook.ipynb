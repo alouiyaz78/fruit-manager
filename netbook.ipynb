{
 "cells": [
  {
   "cell_type": "code",
   "execution_count": 1,
   "id": "e265b02f",
   "metadata": {},
   "outputs": [],
   "source": [
    "inventaire ={\"bananes\": 130, \"pommes\": 60, \"oranges\": 45, \"kiwis\": 20,\"ananas\": 60}"
   ]
  },
  {
   "cell_type": "code",
   "execution_count": 2,
   "id": "b6e1d72c",
   "metadata": {},
   "outputs": [],
   "source": [
    "def afficher_inventaire(inventaire):\n",
    "    for fruit, quantite in inventaire.items():\n",
    "        print(f\"{fruit.capitalize()}: {quantite} unités\")"
   ]
  },
  {
   "cell_type": "code",
   "execution_count": 3,
   "id": "4429e560",
   "metadata": {},
   "outputs": [
    {
     "name": "stdout",
     "output_type": "stream",
     "text": [
      "Bananes: 130 unités\n",
      "Pommes: 60 unités\n",
      "Oranges: 45 unités\n",
      "Kiwis: 20 unités\n",
      "Ananas: 60 unités\n"
     ]
    }
   ],
   "source": [
    "afficher_inventaire(inventaire)"
   ]
  },
  {
   "cell_type": "code",
   "execution_count": null,
   "id": "9b8c7002",
   "metadata": {},
   "outputs": [],
   "source": []
  }
 ],
 "metadata": {
  "kernelspec": {
   "display_name": "base",
   "language": "python",
   "name": "python3"
  },
  "language_info": {
   "codemirror_mode": {
    "name": "ipython",
    "version": 3
   },
   "file_extension": ".py",
   "mimetype": "text/x-python",
   "name": "python",
   "nbconvert_exporter": "python",
   "pygments_lexer": "ipython3",
   "version": "3.12.7"
  }
 },
 "nbformat": 4,
 "nbformat_minor": 5
}
